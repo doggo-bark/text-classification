{
 "cells": [
  {
   "cell_type": "markdown",
   "metadata": {},
   "source": [
    "# Bài toán\n",
    "Bài toán phân loại văn bản (text classification) với dữ liệu là các văn bản Tiếng Việt mỗi văn bản được gán đúng một nhãn \"an ninh\", \"an ninh trật tự\",... Xây dựng mô hình để để tự động phân loại văn bản bằng cách học từ bộ dữ liệu đã cho."
   ]
  },
  {
   "cell_type": "code",
   "execution_count": 1,
   "metadata": {},
   "outputs": [],
   "source": [
    "import os\n",
    "import gensim\n",
    "from pyvi import ViTokenizer, ViPosTagger"
   ]
  },
  {
   "cell_type": "markdown",
   "metadata": {},
   "source": [
    "# Nhập dữ liệu"
   ]
  },
  {
   "cell_type": "code",
   "execution_count": 2,
   "metadata": {},
   "outputs": [],
   "source": [
    "with open('vietnamese-stopwords-dash.txt',encoding='utf8') as f: #stop words\n",
    "    stop_words=f.read().splitlines()\n",
    "\n",
    "def standardise(k):\n",
    "    k = gensim.utils.simple_preprocess(k) # loai ki tu dac biet, viet hoa, ...\n",
    "    k = ' '.join(k)                       # noi list lai thanh chuoi\n",
    "    k = ViTokenizer.tokenize(k)  # add dash\n",
    "    k = k.split(' ')\n",
    "    k = [j for j in k if j not in stop_words]\n",
    "    k = ' '.join(k)\n",
    "    return k    \n"
   ]
  },
  {
   "cell_type": "code",
   "execution_count": 3,
   "metadata": {},
   "outputs": [],
   "source": [
    "# danh sach cac file txt cho vao mang dirs\n",
    "path=os.getcwd()\n",
    "path=path.replace('\\\\','/')\n",
    "path=path+\"/data\""
   ]
  },
  {
   "cell_type": "code",
   "execution_count": 4,
   "metadata": {
    "scrolled": false
   },
   "outputs": [
    {
     "name": "stdout",
     "output_type": "stream",
     "text": [
      "an_ninh.txt\n",
      "an_ninh_trat_tu.txt\n",
      "bat_dong_san.txt\n",
      "bien_dao.txt\n",
      "buu_chinh_vien_thong.txt\n",
      "chinh_sach.txt\n",
      "chinh_tri.txt\n",
      "cong_nghiep.txt\n",
      "dan_toc.txt\n",
      "dau_thau.txt\n",
      "doi_ngoai.txt\n",
      "do_thi.txt\n",
      "du_lich.txt\n",
      "giai_tri.txt\n",
      "giao_duc.txt\n",
      "giao_thong_van_tai.txt\n",
      "hai_quan.txt\n",
      "khoa_hoc_cong_nghe.txt\n",
      "kiem_toan.txt\n",
      "kinh_doanh.txt\n",
      "kinh_te.txt\n",
      "lao_dong.txt\n",
      "lao_dong_thuong_binh_va_xa_hoi.txt\n",
      "nang_luong.txt\n",
      "nong_nghiep.txt\n",
      "phap_luat.txt\n",
      "phu_nu.txt\n",
      "quoc_hoi.txt\n",
      "quoc_phong.txt\n",
      "so_huu_tri_tue.txt\n",
      "suc_khoe.txt\n",
      "tai_chinh.txt\n",
      "tai_nguyen_moi_truong.txt\n",
      "thanh_nien.txt\n",
      "thanh_tra.txt\n",
      "the_thao.txt\n",
      "thoi_trang.txt\n",
      "thong_tin_va_truyen_thong.txt\n",
      "thuong_mai.txt\n",
      "tre_em.txt\n",
      "van_hoa.txt\n",
      "van_nghe.txt\n",
      "xay_dung.txt\n",
      "xa_hoi.txt\n",
      "y_te.txt\n"
     ]
    }
   ],
   "source": [
    "# doc du lieu\n",
    "X=[]\n",
    "y=[]\n",
    "\n",
    "for file in os.listdir(path):\n",
    "        with open(path+'/'+file, encoding=\"utf8\",) as f:\n",
    "            print(file)\n",
    "            data = f.read()\n",
    "            data=data.split('\\n' + '*' * 100 + '\\n')\n",
    "            for i in data:\n",
    "                if i!='':\n",
    "                    X.append(standardise(i))\n",
    "                    y.append(file.replace('.txt',''))"
   ]
  },
  {
   "cell_type": "markdown",
   "metadata": {},
   "source": [
    "Đưa dữ liệu trong list X,y về dữ liệu kiểu dataframe để dễ thao tác."
   ]
  },
  {
   "cell_type": "code",
   "execution_count": 5,
   "metadata": {},
   "outputs": [
    {
     "name": "stdout",
     "output_type": "stream",
     "text": [
      "                                                 doc    label\n",
      "0  cơ_quan công_an khai đối_tượng biện_pháp nghiệ...  an_ninh\n",
      "1  đợt ra_quân giám_đốc công_an tỉnh công_an địa_...  an_ninh\n",
      "2  tang_vật phương_tiện đồn biên_phòng cửa_khẩu m...  an_ninh\n",
      "3  đại_tá lê hồng nam giám_đốc công_an tỉnh long ...  an_ninh\n",
      "4  cơ_quan công_an khai đối_tượng dũng tang_vật v...  an_ninh\n",
      "(71786, 2)\n"
     ]
    }
   ],
   "source": [
    "import pandas as pd\n",
    "\n",
    "data = pd.DataFrame()\n",
    "data['doc'] = X\n",
    "data['label']=y\n",
    "print(data.head())\n",
    "print(data.shape)"
   ]
  },
  {
   "cell_type": "markdown",
   "metadata": {},
   "source": [
    "Loại bỏ các văn bản bị lặp lại trong dataframe."
   ]
  },
  {
   "cell_type": "code",
   "execution_count": 6,
   "metadata": {},
   "outputs": [
    {
     "data": {
      "text/plain": [
       "(60758, 2)"
      ]
     },
     "execution_count": 6,
     "metadata": {},
     "output_type": "execute_result"
    }
   ],
   "source": [
    "data = data.drop_duplicates(subset=['doc'])\n",
    "data.shape"
   ]
  },
  {
   "cell_type": "code",
   "execution_count": 7,
   "metadata": {},
   "outputs": [],
   "source": [
    "X=data['doc']\n",
    "y=data['label']"
   ]
  },
  {
   "cell_type": "markdown",
   "metadata": {},
   "source": [
    "Ghi dữ liệu vào file pickle để sử dụng lần sau cho tiện."
   ]
  },
  {
   "cell_type": "code",
   "execution_count": 1,
   "metadata": {},
   "outputs": [],
   "source": [
    "# dữ liệu sau khi được loại các văn bản lặp lại, loại stopwords được cho vào file pickle\n",
    "import pickle\n",
    "\n",
    "#pickle.dump(X, open('X_data.pkl', 'wb'))\n",
    "#pickle.dump(y, open('y_data.pkl', 'wb'))\n",
    "\n",
    "X = pickle.load(open('X_data.pkl', 'rb'))\n",
    "y = pickle.load(open('y_data.pkl', 'rb'))"
   ]
  },
  {
   "cell_type": "markdown",
   "metadata": {},
   "source": [
    "# Cân bằng nhãn"
   ]
  },
  {
   "cell_type": "code",
   "execution_count": 18,
   "metadata": {},
   "outputs": [
    {
     "name": "stdout",
     "output_type": "stream",
     "text": [
      "Counter({33: 2776, 34: 2204, 9: 2051, 18: 1945, 30: 1941, 2: 1907, 5: 1852, 3: 1845, 7: 1840, 44: 1775, 16: 1765, 27: 1714, 28: 1705, 12: 1700, 14: 1697, 25: 1677, 35: 1602, 13: 1588, 6: 1541, 15: 1518, 42: 1503, 36: 1501, 19: 1478, 43: 1431, 4: 1420, 26: 1385, 32: 1328, 20: 1322, 17: 1273, 38: 1182, 40: 1142, 31: 1114, 10: 999, 22: 987, 39: 959, 41: 950, 24: 754, 29: 737, 1: 685, 23: 656, 11: 579, 21: 316, 37: 156, 0: 144, 8: 114})\n"
     ]
    },
    {
     "data": {
      "image/png": "[encoded data removed]",
      "text/plain": [
       "<Figure size 1440x792 with 1 Axes>"
      ]
     },
     "metadata": {
      "needs_background": "light"
     },
     "output_type": "display_data"
    }
   ],
   "source": [
    "# vẽ phân phối các lớp\n",
    "import collections\n",
    "mydict=collections.Counter(y)\n",
    "print (mydict)\n",
    "\n",
    "import matplotlib.pyplot as plt\n",
    "e=[str(i) for i in mydict]\n",
    "f=[i for i in mydict.values()]\n",
    "fig, ax = plt.subplots(1, 1, figsize=(20,11))\n",
    "plt.bar(e,f)\n",
    "plt.xlabel('label')\n",
    "plt.ylabel('datapoints')\n",
    "plt.show()"
   ]
  },
  {
   "cell_type": "code",
   "execution_count": 2,
   "metadata": {
    "scrolled": true
   },
   "outputs": [
    {
     "name": "stdout",
     "output_type": "stream",
     "text": [
      "  (0, 8109)\t1\n",
      "  (0, 11541)\t1\n",
      "  (0, 12736)\t1\n",
      "  (0, 16665)\t1\n",
      "  (0, 23997)\t5\n",
      "  (0, 24833)\t3\n",
      "  (0, 25428)\t1\n",
      "  (0, 31290)\t1\n",
      "  (0, 45500)\t1\n",
      "  (0, 45555)\t1\n",
      "  (0, 48313)\t1\n",
      "  (0, 48407)\t1\n",
      "  (0, 49035)\t1\n",
      "  (0, 49083)\t1\n",
      "  (0, 56663)\t2\n",
      "  (0, 63405)\t2\n",
      "  (0, 65960)\t3\n",
      "  (0, 66104)\t1\n",
      "  (0, 67066)\t1\n",
      "  (0, 67258)\t1\n",
      "  (0, 76459)\t1\n",
      "  (0, 88388)\t1\n",
      "  (0, 89329)\t1\n",
      "  (0, 89430)\t1\n",
      "  (0, 89442)\t2\n",
      "  :\t:\n",
      "  (58982, 121274)\t3\n",
      "  (58982, 121376)\t1\n",
      "  (58982, 121425)\t1\n",
      "  (58982, 121912)\t1\n",
      "  (58982, 122854)\t1\n",
      "  (58982, 123420)\t2\n",
      "  (58982, 124657)\t1\n",
      "  (58982, 125429)\t1\n",
      "  (58982, 126407)\t3\n",
      "  (58982, 130487)\t1\n",
      "  (58982, 131750)\t1\n",
      "  (58982, 132275)\t1\n",
      "  (58982, 133384)\t2\n",
      "  (58982, 134096)\t1\n",
      "  (58982, 136324)\t6\n",
      "  (58982, 136402)\t1\n",
      "  (58982, 137325)\t1\n",
      "  (58982, 137960)\t1\n",
      "  (58982, 141320)\t1\n",
      "  (58982, 141554)\t1\n",
      "  (58982, 142678)\t2\n",
      "  (58982, 142849)\t1\n",
      "  (58982, 143052)\t2\n",
      "  (58982, 143256)\t1\n",
      "  (58982, 145501)\t1\n",
      "(58983, 148069)\n"
     ]
    }
   ],
   "source": [
    "from sklearn.feature_extraction.text import TfidfVectorizer, CountVectorizer\n",
    "\n",
    "count_vect = CountVectorizer(analyzer='word', token_pattern=r'\\w{1,}')\n",
    "count_vect.fit(X)\n",
    "\n",
    "X_bow = count_vect.transform(X)\n",
    "print(X_bow)\n",
    "print(X_bow.shape)"
   ]
  },
  {
   "cell_type": "code",
   "execution_count": 3,
   "metadata": {
    "scrolled": true
   },
   "outputs": [
    {
     "name": "stdout",
     "output_type": "stream",
     "text": [
      "  (0, 145608)\t0.06485728751735186\n",
      "  (0, 145139)\t0.06824476212322207\n",
      "  (0, 145026)\t0.22680641273455868\n",
      "  (0, 142678)\t0.06823975190626352\n",
      "  (0, 142411)\t0.23852710636150254\n",
      "  (0, 141577)\t0.06027843400917747\n",
      "  (0, 140888)\t0.14530624367994444\n",
      "  (0, 137933)\t0.09875455297733525\n",
      "  (0, 137627)\t0.10419966832038036\n",
      "  (0, 136359)\t0.08308203189023255\n",
      "  (0, 133863)\t0.13719125198572235\n",
      "  (0, 133051)\t0.1473227558992914\n",
      "  (0, 127124)\t0.10109334892132904\n",
      "  (0, 124869)\t0.09525414831021344\n",
      "  (0, 121583)\t0.07980479380496758\n",
      "  (0, 120738)\t0.07758230920208142\n",
      "  (0, 119673)\t0.043281318112085805\n",
      "  (0, 118709)\t0.13259274668787668\n",
      "  (0, 112337)\t0.09390750166352091\n",
      "  (0, 112029)\t0.3867854669558101\n",
      "  (0, 107557)\t0.16912903362821083\n",
      "  (0, 103083)\t0.05699644026583723\n",
      "  (0, 94618)\t0.10622722774960115\n",
      "  (0, 94087)\t0.04270190493760923\n",
      "  (0, 90058)\t0.26241080988798143\n",
      "  :\t:\n",
      "  (58982, 47443)\t0.04031681574550228\n",
      "  (58982, 44311)\t0.04488060842845692\n",
      "  (58982, 44112)\t0.09824451764788951\n",
      "  (58982, 40821)\t0.06739121485177184\n",
      "  (58982, 40793)\t0.1537383034341583\n",
      "  (58982, 39661)\t0.06464710410867158\n",
      "  (58982, 32795)\t0.048232392353708686\n",
      "  (58982, 32529)\t0.03460823789437913\n",
      "  (58982, 31999)\t0.06115393446212918\n",
      "  (58982, 25676)\t0.10078179666249171\n",
      "  (58982, 25428)\t0.053872416780848885\n",
      "  (58982, 24423)\t0.09774943072417819\n",
      "  (58982, 23997)\t0.2095429170321795\n",
      "  (58982, 21004)\t0.10283048133436429\n",
      "  (58982, 20984)\t0.057497137815776936\n",
      "  (58982, 20381)\t0.049038636946667234\n",
      "  (58982, 18326)\t0.20159034709999188\n",
      "  (58982, 16590)\t0.1767002381024627\n",
      "  (58982, 16339)\t0.0901336204872582\n",
      "  (58982, 15960)\t0.0831658266247626\n",
      "  (58982, 13556)\t0.1837291286613572\n",
      "  (58982, 9770)\t0.07718305535801555\n",
      "  (58982, 8561)\t0.06238431734653002\n",
      "  (58982, 6218)\t0.07265127179812357\n",
      "  (58982, 2560)\t0.08231405510634435\n",
      "(58983, 148069)\n"
     ]
    }
   ],
   "source": [
    "from sklearn.feature_extraction.text import TfidfVectorizer, CountVectorizer\n",
    "tf_idf = TfidfVectorizer(analyzer='word', max_features=200000)\n",
    "tf_idf.fit(X) \n",
    "X_tfidf =  tf_idf.transform(X)\n",
    "print(X_tfidf)\n",
    "print(X_tfidf.shape)"
   ]
  },
  {
   "cell_type": "code",
   "execution_count": 4,
   "metadata": {},
   "outputs": [],
   "source": [
    "from sklearn.decomposition import TruncatedSVD\n",
    "\n",
    "svd = TruncatedSVD(n_components=300, random_state=42)\n",
    "svd.fit(X_tfidf)\n",
    "\n",
    "\n",
    "X_tfidf_svd = svd.transform(X_tfidf)\n",
    "print(X_tfidf_svd)\n",
    "print(X_tfidf_svd.shape)"
   ]
  },
  {
   "cell_type": "code",
   "execution_count": 5,
   "metadata": {
    "scrolled": true
   },
   "outputs": [
    {
     "name": "stdout",
     "output_type": "stream",
     "text": [
      "  (0, 49538)\t0.0706306184991728\n",
      "  (0, 49375)\t0.07431963226649761\n",
      "  (0, 49320)\t0.24699579375308758\n",
      "  (0, 48396)\t0.07431417606047755\n",
      "  (0, 48281)\t0.25975981568183193\n",
      "  (0, 47994)\t0.06564417414297088\n",
      "  (0, 47739)\t0.15824081233986576\n",
      "  (0, 46841)\t0.10754528015887813\n",
      "  (0, 46737)\t0.11347509744233635\n",
      "  (0, 46337)\t0.09047765522116799\n",
      "  (0, 45541)\t0.14940345721111153\n",
      "  (0, 45241)\t0.1604368262454043\n",
      "  (0, 43404)\t0.11009226617064194\n",
      "  (0, 42606)\t0.10373328375723924\n",
      "  (0, 41498)\t0.08690869077951782\n",
      "  (0, 41203)\t0.08448836966965426\n",
      "  (0, 40778)\t0.04713404437239543\n",
      "  (0, 40461)\t0.14439561174314208\n",
      "  (0, 38208)\t0.1022667641231845\n",
      "  (0, 38078)\t0.4212155303329847\n",
      "  (0, 36567)\t0.18418420980266847\n",
      "  (0, 35082)\t0.06207003071397659\n",
      "  (0, 32123)\t0.11568314193527603\n",
      "  (0, 31911)\t0.04650305420234089\n",
      "  (0, 30608)\t0.2857695490009252\n",
      "  :\t:\n",
      "  (58982, 16333)\t0.04124522596266261\n",
      "  (58982, 15391)\t0.04591411305045823\n",
      "  (58982, 15319)\t0.10050687920293036\n",
      "  (58982, 14307)\t0.06894309069460085\n",
      "  (58982, 14297)\t0.15727856843370985\n",
      "  (58982, 13830)\t0.06613578893792958\n",
      "  (58982, 11591)\t0.049343081405689805\n",
      "  (58982, 11502)\t0.03540519174762688\n",
      "  (58982, 11306)\t0.06256217905001007\n",
      "  (58982, 9182)\t0.10310258633784378\n",
      "  (58982, 9075)\t0.055112983557704026\n",
      "  (58982, 8685)\t0.1000003914840457\n",
      "  (58982, 8525)\t0.2143682431773367\n",
      "  (58982, 7438)\t0.1051984478451369\n",
      "  (58982, 7432)\t0.0588211741817094\n",
      "  (58982, 7161)\t0.050167892090830786\n",
      "  (58982, 6368)\t0.20623254253303303\n",
      "  (58982, 5695)\t0.1807692674490398\n",
      "  (58982, 5607)\t0.09220920539203478\n",
      "  (58982, 5484)\t0.08508095810846934\n",
      "  (58982, 4649)\t0.18796001835552162\n",
      "  (58982, 3149)\t0.07896041638866758\n",
      "  (58982, 2750)\t0.06382089502619345\n",
      "  (58982, 2031)\t0.07432427552572067\n",
      "  (58982, 831)\t0.0842095721099449\n",
      "(58983, 50000)\n"
     ]
    }
   ],
   "source": [
    "from sklearn.feature_extraction.text import TfidfVectorizer, CountVectorizer\n",
    "tf_idf = TfidfVectorizer(analyzer='word', max_features=50000)\n",
    "tf_idf.fit(X) \n",
    "X_tfidf =  tf_idf.transform(X)\n",
    "print(X_tfidf)\n",
    "print(X_tfidf.shape)"
   ]
  },
  {
   "cell_type": "code",
   "execution_count": 2,
   "metadata": {
    "scrolled": true
   },
   "outputs": [
    {
     "name": "stdout",
     "output_type": "stream",
     "text": [
      "  (0, 19797)\t0.07186001821728201\n",
      "  (0, 19718)\t0.07561324312394016\n",
      "  (0, 19683)\t0.25129501363345386\n",
      "  (0, 19197)\t0.07560769194695303\n",
      "  (0, 19149)\t0.26428120670121097\n",
      "  (0, 19008)\t0.06678677958664013\n",
      "  (0, 18892)\t0.1609951590271496\n",
      "  (0, 18531)\t0.10941721813593053\n",
      "  (0, 18487)\t0.11545025008537398\n",
      "  (0, 18301)\t0.0920525133519288\n",
      "  (0, 17984)\t0.15200398049807715\n",
      "  (0, 17848)\t0.1632293968493662\n",
      "  (0, 17152)\t0.11200853710061796\n",
      "  (0, 16740)\t0.10553886995370142\n",
      "  (0, 16245)\t0.08842142735490023\n",
      "  (0, 16106)\t0.08595897802708492\n",
      "  (0, 15886)\t0.04795446166585929\n",
      "  (0, 15752)\t0.14690896824695504\n",
      "  (0, 14722)\t0.10404682401302472\n",
      "  (0, 14660)\t0.4285472267736814\n",
      "  (0, 13513)\t0.0631504244565811\n",
      "  (0, 12553)\t0.1176967278999364\n",
      "  (0, 12446)\t0.047312488452562626\n",
      "  (0, 12046)\t0.2907436666067345\n",
      "  (0, 11928)\t0.13453993407461484\n",
      "  :\t:\n",
      "  (58982, 6175)\t0.04165203038298713\n",
      "  (58982, 5816)\t0.046366967016178144\n",
      "  (58982, 5798)\t0.10149818526995946\n",
      "  (58982, 5424)\t0.06962308100598345\n",
      "  (58982, 5421)\t0.1588298174659994\n",
      "  (58982, 5205)\t0.06678809064445809\n",
      "  (58982, 4497)\t0.04982975551547497\n",
      "  (58982, 4447)\t0.035754395520165544\n",
      "  (58982, 4345)\t0.06317923400336921\n",
      "  (58982, 3559)\t0.10411949403783052\n",
      "  (58982, 3498)\t0.05565656659805013\n",
      "  (58982, 3317)\t0.10098670202885196\n",
      "  (58982, 3253)\t0.2164825714872527\n",
      "  (58982, 2883)\t0.10623602716724852\n",
      "  (58982, 2882)\t0.05940133135401969\n",
      "  (58982, 2793)\t0.05066270136353032\n",
      "  (58982, 2442)\t0.2082666278837388\n",
      "  (58982, 2119)\t0.18255220681573556\n",
      "  (58982, 2077)\t0.09311867094768594\n",
      "  (58982, 2017)\t0.08592011728474108\n",
      "  (58982, 1740)\t0.18981388057900708\n",
      "  (58982, 996)\t0.07973920825288604\n",
      "  (58982, 894)\t0.06445036477935288\n",
      "  (58982, 629)\t0.07505734082274804\n",
      "  (58982, 243)\t0.08504013674787347\n",
      "(58983, 20000)\n"
     ]
    }
   ],
   "source": [
    "from sklearn.feature_extraction.text import TfidfVectorizer, CountVectorizer\n",
    "tf_idf = TfidfVectorizer(analyzer='word', max_features=20000)\n",
    "tf_idf.fit(X) \n",
    "X_tfidf =  tf_idf.transform(X)\n",
    "print(X_tfidf)\n",
    "print(X_tfidf.shape)"
   ]
  },
  {
   "cell_type": "code",
   "execution_count": 3,
   "metadata": {},
   "outputs": [
    {
     "data": {
      "text/plain": [
       "array(['an_ninh', 'an_ninh_trat_tu', 'bat_dong_san', 'bien_dao',\n",
       "       'buu_chinh_vien_thong', 'chinh_sach', 'chinh_tri', 'cong_nghiep',\n",
       "       'dan_toc', 'dau_thau', 'do_thi', 'doi_ngoai', 'du_lich',\n",
       "       'giai_tri', 'giao_duc', 'giao_thong_van_tai', 'hai_quan',\n",
       "       'khoa_hoc_cong_nghe', 'kiem_toan', 'kinh_doanh', 'kinh_te',\n",
       "       'lao_dong', 'lao_dong_thuong_binh_va_xa_hoi', 'nang_luong',\n",
       "       'nong_nghiep', 'phap_luat', 'phu_nu', 'quoc_hoi', 'quoc_phong',\n",
       "       'so_huu_tri_tue', 'suc_khoe', 'tai_chinh', 'tai_nguyen_moi_truong',\n",
       "       'thanh_nien', 'thanh_tra', 'the_thao', 'thoi_trang',\n",
       "       'thong_tin_va_truyen_thong', 'thuong_mai', 'tre_em', 'van_hoa',\n",
       "       'van_nghe', 'xa_hoi', 'xay_dung'], dtype=object)"
      ]
     },
     "execution_count": 3,
     "metadata": {},
     "output_type": "execute_result"
    }
   ],
   "source": [
    "# chuyển label về dạng số\n",
    "import sklearn\n",
    "encoder = sklearn.preprocessing.LabelEncoder()\n",
    "y = encoder.fit_transform(y)\n",
    "\n",
    "encoder.classes_"
   ]
  },
  {
   "cell_type": "code",
   "execution_count": 4,
   "metadata": {},
   "outputs": [
    {
     "name": "stderr",
     "output_type": "stream",
     "text": [
      "Using TensorFlow backend.\n"
     ]
    }
   ],
   "source": [
    "# cân bằng lớp\n",
    "from imblearn.over_sampling import SMOTE\n",
    "oversample = SMOTE()\n",
    "X_tfidf, y = oversample.fit_resample(X_tfidf, y)\n",
    "#X_tfidf_svd, y = oversample.fit_resample(X_tfidf_svd, y)"
   ]
  },
  {
   "cell_type": "code",
   "execution_count": 8,
   "metadata": {},
   "outputs": [
    {
     "name": "stdout",
     "output_type": "stream",
     "text": [
      "Counter({0: 2776, 1: 2776, 2: 2776, 3: 2776, 4: 2776, 5: 2776, 6: 2776, 7: 2776, 8: 2776, 9: 2776, 11: 2776, 10: 2776, 12: 2776, 13: 2776, 14: 2776, 15: 2776, 16: 2776, 17: 2776, 18: 2776, 19: 2776, 20: 2776, 21: 2776, 22: 2776, 23: 2776, 24: 2776, 25: 2776, 26: 2776, 27: 2776, 28: 2776, 29: 2776, 30: 2776, 31: 2776, 32: 2776, 33: 2776, 34: 2776, 35: 2776, 36: 2776, 37: 2776, 38: 2776, 39: 2776, 40: 2776, 41: 2776, 43: 2776, 42: 2776})\n"
     ]
    }
   ],
   "source": [
    "# vẽ phân phối các lớp sau khi cân bằng lớp\n",
    "import collections\n",
    "print(collections.Counter(y))\n",
    "\n",
    "\n"
   ]
  },
  {
   "cell_type": "markdown",
   "metadata": {},
   "source": [
    "# Naive Bayes"
   ]
  },
  {
   "cell_type": "code",
   "execution_count": 23,
   "metadata": {},
   "outputs": [
    {
     "name": "stdout",
     "output_type": "stream",
     "text": [
      "Train accuracy:  0.6689881524175473\n",
      "Validation accuracy:  0.6449460988365887\n"
     ]
    }
   ],
   "source": [
    "# tfidf 150 000\n",
    "from sklearn.naive_bayes import MultinomialNB\n",
    "from sklearn.model_selection import train_test_split    \n",
    "    \n",
    "X_train, X_val, y_train, y_val = train_test_split(X_tfidf, y, test_size=0.3, random_state=42)\n",
    "       \n",
    "cl=MultinomialNB().fit(X_train, y_train)\n",
    "\n",
    "train_predictions = cl.predict(X_train)\n",
    "val_predictions = cl.predict(X_val)\n",
    "\n",
    "print(\"Train accuracy: \", sklearn.metrics.accuracy_score(train_predictions, y_train))\n",
    "print(\"Validation accuracy: \", sklearn.metrics.accuracy_score(val_predictions, y_val))\n"
   ]
  },
  {
   "cell_type": "code",
   "execution_count": 9,
   "metadata": {},
   "outputs": [
    {
     "name": "stdout",
     "output_type": "stream",
     "text": [
      "Train accuracy:  0.6795204678362573\n",
      "Validation accuracy:  0.6556598624604301\n"
     ]
    }
   ],
   "source": [
    "# tfidf 50 000\n",
    "from sklearn.naive_bayes import MultinomialNB\n",
    "from sklearn.model_selection import train_test_split    \n",
    "    \n",
    "X_train, X_val, y_train, y_val = train_test_split(X_tfidf, y, test_size=0.3, random_state=42)\n",
    "       \n",
    "cl=MultinomialNB().fit(X_train, y_train)\n",
    "\n",
    "train_predictions = cl.predict(X_train)\n",
    "val_predictions = cl.predict(X_val)\n",
    "\n",
    "print(\"Train accuracy: \", sklearn.metrics.accuracy_score(train_predictions, y_train))\n",
    "print(\"Validation accuracy: \", sklearn.metrics.accuracy_score(val_predictions, y_val))\n"
   ]
  },
  {
   "cell_type": "code",
   "execution_count": 5,
   "metadata": {},
   "outputs": [
    {
     "name": "stdout",
     "output_type": "stream",
     "text": [
      "Train accuracy:  0.6721754385964912\n",
      "Validation accuracy:  0.6506112869774042\n"
     ]
    }
   ],
   "source": [
    "# tfidf 20 000\n",
    "from sklearn.naive_bayes import MultinomialNB\n",
    "from sklearn.model_selection import train_test_split    \n",
    "    \n",
    "X_train, X_val, y_train, y_val = train_test_split(X_tfidf, y, test_size=0.3, random_state=42)\n",
    "       \n",
    "cl=MultinomialNB().fit(X_train, y_train)\n",
    "\n",
    "train_predictions = cl.predict(X_train)\n",
    "val_predictions = cl.predict(X_val)\n",
    "\n",
    "print(\"Train accuracy: \", sklearn.metrics.accuracy_score(train_predictions, y_train))\n",
    "print(\"Validation accuracy: \", sklearn.metrics.accuracy_score(val_predictions, y_val))\n"
   ]
  },
  {
   "cell_type": "code",
   "execution_count": 5,
   "metadata": {},
   "outputs": [
    {
     "name": "stdout",
     "output_type": "stream",
     "text": [
      "Train accuracy:  0.682514619883041\n",
      "Validation accuracy:  0.6442255212313066\n"
     ]
    }
   ],
   "source": [
    "# bow 150k\n",
    "from sklearn.naive_bayes import MultinomialNB\n",
    "from sklearn.model_selection import train_test_split    \n",
    "    \n",
    "X_train, X_val, y_train, y_val = train_test_split(X_bow, y, test_size=0.3, random_state=42)\n",
    "       \n",
    "cl=MultinomialNB().fit(X_train, y_train)\n",
    "\n",
    "train_predictions = cl.predict(X_train)\n",
    "val_predictions = cl.predict(X_val)\n",
    "\n",
    "print(\"Train accuracy: \", sklearn.metrics.accuracy_score(train_predictions, y_train))\n",
    "print(\"Validation accuracy: \", sklearn.metrics.accuracy_score(val_predictions, y_val))"
   ]
  },
  {
   "cell_type": "markdown",
   "metadata": {},
   "source": [
    "# Logistic Regression"
   ]
  },
  {
   "cell_type": "code",
   "execution_count": 24,
   "metadata": {},
   "outputs": [
    {
     "name": "stderr",
     "output_type": "stream",
     "text": [
      "C:\\Users\\PC\\Anaconda3\\lib\\site-packages\\sklearn\\linear_model\\logistic.py:432: FutureWarning: Default solver will be changed to 'lbfgs' in 0.22. Specify a solver to silence this warning.\n",
      "  FutureWarning)\n",
      "C:\\Users\\PC\\Anaconda3\\lib\\site-packages\\sklearn\\linear_model\\logistic.py:469: FutureWarning: Default multi_class will be changed to 'auto' in 0.22. Specify the multi_class option to silence this warning.\n",
      "  \"this warning.\", FutureWarning)\n"
     ]
    },
    {
     "name": "stdout",
     "output_type": "stream",
     "text": [
      "Train accuracy:  0.8276153881341202\n",
      "Validation accuracy:  0.7729213363219127\n"
     ]
    }
   ],
   "source": [
    "# tfidf 150 000\n",
    "from sklearn.linear_model import LogisticRegression   \n",
    "    \n",
    "X_train, X_val, y_train, y_val = train_test_split(X_tfidf, y, test_size=0.3, random_state=42)\n",
    "       \n",
    "cl=LogisticRegression().fit(X_train, y_train)\n",
    "\n",
    "train_predictions = cl.predict(X_train)\n",
    "val_predictions = cl.predict(X_val)\n",
    "\n",
    "print(\"Train accuracy: \", sklearn.metrics.accuracy_score(train_predictions, y_train))\n",
    "print(\"Validation accuracy: \", sklearn.metrics.accuracy_score(val_predictions, y_val))"
   ]
  },
  {
   "cell_type": "code",
   "execution_count": 10,
   "metadata": {},
   "outputs": [
    {
     "name": "stderr",
     "output_type": "stream",
     "text": [
      "C:\\Users\\PC\\Anaconda3\\lib\\site-packages\\sklearn\\linear_model\\logistic.py:432: FutureWarning: Default solver will be changed to 'lbfgs' in 0.22. Specify a solver to silence this warning.\n",
      "  FutureWarning)\n",
      "C:\\Users\\PC\\Anaconda3\\lib\\site-packages\\sklearn\\linear_model\\logistic.py:469: FutureWarning: Default multi_class will be changed to 'auto' in 0.22. Specify the multi_class option to silence this warning.\n",
      "  \"this warning.\", FutureWarning)\n"
     ]
    },
    {
     "name": "stdout",
     "output_type": "stream",
     "text": [
      "Train accuracy:  0.8323976608187135\n",
      "Validation accuracy:  0.7781901539133282\n"
     ]
    }
   ],
   "source": [
    "# tfidf 50 000\n",
    "from sklearn.linear_model import LogisticRegression   \n",
    "    \n",
    "X_train, X_val, y_train, y_val = train_test_split(X_tfidf, y, test_size=0.3, random_state=42)\n",
    "       \n",
    "cl=LogisticRegression().fit(X_train, y_train)\n",
    "\n",
    "train_predictions = cl.predict(X_train)\n",
    "val_predictions = cl.predict(X_val)\n",
    "\n",
    "print(\"Train accuracy: \", sklearn.metrics.accuracy_score(train_predictions, y_train))\n",
    "print(\"Validation accuracy: \", sklearn.metrics.accuracy_score(val_predictions, y_val))"
   ]
  },
  {
   "cell_type": "code",
   "execution_count": 6,
   "metadata": {},
   "outputs": [
    {
     "name": "stderr",
     "output_type": "stream",
     "text": [
      "C:\\Users\\PC\\Anaconda3\\lib\\site-packages\\sklearn\\linear_model\\logistic.py:432: FutureWarning: Default solver will be changed to 'lbfgs' in 0.22. Specify a solver to silence this warning.\n",
      "  FutureWarning)\n",
      "C:\\Users\\PC\\Anaconda3\\lib\\site-packages\\sklearn\\linear_model\\logistic.py:469: FutureWarning: Default multi_class will be changed to 'auto' in 0.22. Specify the multi_class option to silence this warning.\n",
      "  \"this warning.\", FutureWarning)\n"
     ]
    },
    {
     "name": "stdout",
     "output_type": "stream",
     "text": [
      "Train accuracy:  0.8270526315789474\n",
      "Validation accuracy:  0.7787086562602336\n"
     ]
    }
   ],
   "source": [
    "# tfidf 20 000\n",
    "from sklearn.linear_model import LogisticRegression   \n",
    "    \n",
    "X_train, X_val, y_train, y_val = train_test_split(X_tfidf, y, test_size=0.3, random_state=42)\n",
    "       \n",
    "cl=LogisticRegression().fit(X_train, y_train)\n",
    "\n",
    "train_predictions = cl.predict(X_train)\n",
    "val_predictions = cl.predict(X_val)\n",
    "\n",
    "print(\"Train accuracy: \", sklearn.metrics.accuracy_score(train_predictions, y_train))\n",
    "print(\"Validation accuracy: \", sklearn.metrics.accuracy_score(val_predictions, y_val))"
   ]
  },
  {
   "cell_type": "code",
   "execution_count": 9,
   "metadata": {},
   "outputs": [
    {
     "name": "stderr",
     "output_type": "stream",
     "text": [
      "C:\\Users\\PC\\Anaconda3\\lib\\site-packages\\sklearn\\linear_model\\logistic.py:432: FutureWarning: Default solver will be changed to 'lbfgs' in 0.22. Specify a solver to silence this warning.\n",
      "  FutureWarning)\n",
      "C:\\Users\\PC\\Anaconda3\\lib\\site-packages\\sklearn\\linear_model\\logistic.py:469: FutureWarning: Default multi_class will be changed to 'auto' in 0.22. Specify the multi_class option to silence this warning.\n",
      "  \"this warning.\", FutureWarning)\n"
     ]
    },
    {
     "name": "stdout",
     "output_type": "stream",
     "text": [
      "Train accuracy:  0.6500350877192983\n",
      "Validation accuracy:  0.6354109813339155\n"
     ]
    }
   ],
   "source": [
    "# tfidf svd\n",
    "from sklearn.linear_model import LogisticRegression   \n",
    "    \n",
    "X_train, X_val, y_train, y_val = train_test_split(X_tfidf_svd, y, test_size=0.3, random_state=42)\n",
    "       \n",
    "cl=LogisticRegression().fit(X_train, y_train)\n",
    "\n",
    "train_predictions = cl.predict(X_train)\n",
    "val_predictions = cl.predict(X_val)\n",
    "\n",
    "print(\"Train accuracy: \", sklearn.metrics.accuracy_score(train_predictions, y_train))\n",
    "print(\"Validation accuracy: \", sklearn.metrics.accuracy_score(val_predictions, y_val))"
   ]
  },
  {
   "cell_type": "code",
   "execution_count": null,
   "metadata": {},
   "outputs": [
    {
     "name": "stderr",
     "output_type": "stream",
     "text": [
      "C:\\Users\\PC\\Anaconda3\\lib\\site-packages\\sklearn\\linear_model\\logistic.py:432: FutureWarning: Default solver will be changed to 'lbfgs' in 0.22. Specify a solver to silence this warning.\n",
      "  FutureWarning)\n",
      "C:\\Users\\PC\\Anaconda3\\lib\\site-packages\\sklearn\\linear_model\\logistic.py:469: FutureWarning: Default multi_class will be changed to 'auto' in 0.22. Specify the multi_class option to silence this warning.\n",
      "  \"this warning.\", FutureWarning)\n"
     ]
    }
   ],
   "source": [
    "from sklearn.linear_model import LogisticRegression   \n",
    "    \n",
    "X_train, X_val, y_train, y_val = train_test_split(X_bow, y, test_size=0.3, random_state=42)\n",
    "       \n",
    "cl=LogisticRegression().fit(X_train, y_train)\n",
    "\n",
    "train_predictions = cl.predict(X_train)\n",
    "val_predictions = cl.predict(X_val)\n",
    "\n",
    "print(\"Train accuracy: \", sklearn.metrics.accuracy_score(train_predictions, y_train))\n",
    "print(\"Validation accuracy: \", sklearn.metrics.accuracy_score(val_predictions, y_val))"
   ]
  },
  {
   "cell_type": "markdown",
   "metadata": {},
   "source": [
    "# SVM"
   ]
  },
  {
   "cell_type": "code",
   "execution_count": null,
   "metadata": {},
   "outputs": [
    {
     "name": "stderr",
     "output_type": "stream",
     "text": [
      "C:\\Users\\PC\\Anaconda3\\lib\\site-packages\\sklearn\\svm\\base.py:193: FutureWarning: The default value of gamma will change from 'auto' to 'scale' in version 0.22 to account better for unscaled features. Set gamma explicitly to 'auto' or 'scale' to avoid this warning.\n",
      "  \"avoid this warning.\", FutureWarning)\n"
     ]
    }
   ],
   "source": [
    "# tfidf 20 000\n",
    "from sklearn.svm import SVC   \n",
    "from sklearn.model_selection import train_test_split   \n",
    "X_train, X_val, y_train, y_val = train_test_split(X_tfidf, y, test_size=0.3, random_state=42)\n",
    "       \n",
    "cl=SVC().fit(X_train, y_train)\n",
    "\n",
    "train_predictions = cl.predict(X_train)\n",
    "val_predictions = cl.predict(X_val)\n",
    "\n",
    "print(\"Train accuracy: \", sklearn.metrics.accuracy_score(train_predictions, y_train))\n",
    "print(\"Validation accuracy: \", sklearn.metrics.accuracy_score(val_predictions, y_val))"
   ]
  }
 ],
 "metadata": {
  "kernelspec": {
   "display_name": "Python 3",
   "language": "python",
   "name": "python3"
  },
  "language_info": {
   "codemirror_mode": {
    "name": "ipython",
    "version": 3
   },
   "file_extension": ".py",
   "mimetype": "text/x-python",
   "name": "python",
   "nbconvert_exporter": "python",
   "pygments_lexer": "ipython3",
   "version": "3.7.4"
  }
 },
 "nbformat": 4,
 "nbformat_minor": 2
}
